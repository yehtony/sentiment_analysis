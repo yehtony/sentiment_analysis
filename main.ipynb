{
 "cells": [
  {
   "cell_type": "code",
   "execution_count": 1,
   "metadata": {},
   "outputs": [
    {
     "name": "stdout",
     "output_type": "stream",
     "text": [
      "Requirement already satisfied: ckiptagger[gdown,tf] in c:\\users\\yehto\\appdata\\local\\programs\\python\\python310\\lib\\site-packages (0.2.1)\n",
      "Requirement already satisfied: tensorflow>=1.13.1 in c:\\users\\yehto\\appdata\\local\\programs\\python\\python310\\lib\\site-packages (from ckiptagger[gdown,tf]) (2.16.1)\n",
      "Requirement already satisfied: gdown in c:\\users\\yehto\\appdata\\local\\programs\\python\\python310\\lib\\site-packages (from ckiptagger[gdown,tf]) (5.1.0)\n",
      "Requirement already satisfied: tensorflow-intel==2.16.1 in c:\\users\\yehto\\appdata\\local\\programs\\python\\python310\\lib\\site-packages (from tensorflow>=1.13.1->ckiptagger[gdown,tf]) (2.16.1)\n",
      "Requirement already satisfied: ml-dtypes~=0.3.1 in c:\\users\\yehto\\appdata\\local\\programs\\python\\python310\\lib\\site-packages (from tensorflow-intel==2.16.1->tensorflow>=1.13.1->ckiptagger[gdown,tf]) (0.3.2)\n",
      "Requirement already satisfied: libclang>=13.0.0 in c:\\users\\yehto\\appdata\\local\\programs\\python\\python310\\lib\\site-packages (from tensorflow-intel==2.16.1->tensorflow>=1.13.1->ckiptagger[gdown,tf]) (18.1.1)\n",
      "Requirement already satisfied: tensorboard<2.17,>=2.16 in c:\\users\\yehto\\appdata\\local\\programs\\python\\python310\\lib\\site-packages (from tensorflow-intel==2.16.1->tensorflow>=1.13.1->ckiptagger[gdown,tf]) (2.16.2)\n",
      "Requirement already satisfied: opt-einsum>=2.3.2 in c:\\users\\yehto\\appdata\\local\\programs\\python\\python310\\lib\\site-packages (from tensorflow-intel==2.16.1->tensorflow>=1.13.1->ckiptagger[gdown,tf]) (3.3.0)\n",
      "Requirement already satisfied: typing-extensions>=3.6.6 in c:\\users\\yehto\\appdata\\local\\programs\\python\\python310\\lib\\site-packages (from tensorflow-intel==2.16.1->tensorflow>=1.13.1->ckiptagger[gdown,tf]) (4.10.0)\n",
      "Requirement already satisfied: tensorflow-io-gcs-filesystem>=0.23.1 in c:\\users\\yehto\\appdata\\local\\programs\\python\\python310\\lib\\site-packages (from tensorflow-intel==2.16.1->tensorflow>=1.13.1->ckiptagger[gdown,tf]) (0.31.0)\n",
      "Requirement already satisfied: requests<3,>=2.21.0 in c:\\users\\yehto\\appdata\\local\\programs\\python\\python310\\lib\\site-packages (from tensorflow-intel==2.16.1->tensorflow>=1.13.1->ckiptagger[gdown,tf]) (2.31.0)\n",
      "Requirement already satisfied: h5py>=3.10.0 in c:\\users\\yehto\\appdata\\local\\programs\\python\\python310\\lib\\site-packages (from tensorflow-intel==2.16.1->tensorflow>=1.13.1->ckiptagger[gdown,tf]) (3.10.0)\n",
      "Requirement already satisfied: absl-py>=1.0.0 in c:\\users\\yehto\\appdata\\local\\programs\\python\\python310\\lib\\site-packages (from tensorflow-intel==2.16.1->tensorflow>=1.13.1->ckiptagger[gdown,tf]) (2.1.0)\n",
      "Requirement already satisfied: wrapt>=1.11.0 in c:\\users\\yehto\\appdata\\local\\programs\\python\\python310\\lib\\site-packages (from tensorflow-intel==2.16.1->tensorflow>=1.13.1->ckiptagger[gdown,tf]) (1.16.0)\n",
      "Requirement already satisfied: astunparse>=1.6.0 in c:\\users\\yehto\\appdata\\local\\programs\\python\\python310\\lib\\site-packages (from tensorflow-intel==2.16.1->tensorflow>=1.13.1->ckiptagger[gdown,tf]) (1.6.3)\n",
      "Requirement already satisfied: setuptools in c:\\users\\yehto\\appdata\\local\\programs\\python\\python310\\lib\\site-packages (from tensorflow-intel==2.16.1->tensorflow>=1.13.1->ckiptagger[gdown,tf]) (65.5.0)\n",
      "Requirement already satisfied: protobuf!=4.21.0,!=4.21.1,!=4.21.2,!=4.21.3,!=4.21.4,!=4.21.5,<5.0.0dev,>=3.20.3 in c:\\users\\yehto\\appdata\\local\\programs\\python\\python310\\lib\\site-packages (from tensorflow-intel==2.16.1->tensorflow>=1.13.1->ckiptagger[gdown,tf]) (4.25.3)\n",
      "Requirement already satisfied: packaging in c:\\users\\yehto\\appdata\\roaming\\python\\python310\\site-packages (from tensorflow-intel==2.16.1->tensorflow>=1.13.1->ckiptagger[gdown,tf]) (24.0)\n",
      "Requirement already satisfied: termcolor>=1.1.0 in c:\\users\\yehto\\appdata\\local\\programs\\python\\python310\\lib\\site-packages (from tensorflow-intel==2.16.1->tensorflow>=1.13.1->ckiptagger[gdown,tf]) (2.4.0)\n",
      "Requirement already satisfied: grpcio<2.0,>=1.24.3 in c:\\users\\yehto\\appdata\\local\\programs\\python\\python310\\lib\\site-packages (from tensorflow-intel==2.16.1->tensorflow>=1.13.1->ckiptagger[gdown,tf]) (1.62.1)\n",
      "Requirement already satisfied: keras>=3.0.0 in c:\\users\\yehto\\appdata\\local\\programs\\python\\python310\\lib\\site-packages (from tensorflow-intel==2.16.1->tensorflow>=1.13.1->ckiptagger[gdown,tf]) (3.1.1)\n",
      "Requirement already satisfied: google-pasta>=0.1.1 in c:\\users\\yehto\\appdata\\local\\programs\\python\\python310\\lib\\site-packages (from tensorflow-intel==2.16.1->tensorflow>=1.13.1->ckiptagger[gdown,tf]) (0.2.0)\n",
      "Requirement already satisfied: numpy<2.0.0,>=1.23.5 in c:\\users\\yehto\\appdata\\local\\programs\\python\\python310\\lib\\site-packages (from tensorflow-intel==2.16.1->tensorflow>=1.13.1->ckiptagger[gdown,tf]) (1.26.4)\n",
      "Requirement already satisfied: gast!=0.5.0,!=0.5.1,!=0.5.2,>=0.2.1 in c:\\users\\yehto\\appdata\\local\\programs\\python\\python310\\lib\\site-packages (from tensorflow-intel==2.16.1->tensorflow>=1.13.1->ckiptagger[gdown,tf]) (0.5.4)\n",
      "Requirement already satisfied: six>=1.12.0 in c:\\users\\yehto\\appdata\\roaming\\python\\python310\\site-packages (from tensorflow-intel==2.16.1->tensorflow>=1.13.1->ckiptagger[gdown,tf]) (1.16.0)\n",
      "Requirement already satisfied: flatbuffers>=23.5.26 in c:\\users\\yehto\\appdata\\local\\programs\\python\\python310\\lib\\site-packages (from tensorflow-intel==2.16.1->tensorflow>=1.13.1->ckiptagger[gdown,tf]) (24.3.7)\n",
      "Requirement already satisfied: tqdm in c:\\users\\yehto\\appdata\\local\\programs\\python\\python310\\lib\\site-packages (from gdown->ckiptagger[gdown,tf]) (4.66.2)\n",
      "Requirement already satisfied: beautifulsoup4 in c:\\users\\yehto\\appdata\\local\\programs\\python\\python310\\lib\\site-packages (from gdown->ckiptagger[gdown,tf]) (4.12.3)\n",
      "Requirement already satisfied: filelock in c:\\users\\yehto\\appdata\\local\\programs\\python\\python310\\lib\\site-packages (from gdown->ckiptagger[gdown,tf]) (3.13.1)\n",
      "Requirement already satisfied: soupsieve>1.2 in c:\\users\\yehto\\appdata\\local\\programs\\python\\python310\\lib\\site-packages (from beautifulsoup4->gdown->ckiptagger[gdown,tf]) (2.5)\n",
      "Requirement already satisfied: charset-normalizer<4,>=2 in c:\\users\\yehto\\appdata\\local\\programs\\python\\python310\\lib\\site-packages (from requests<3,>=2.21.0->tensorflow-intel==2.16.1->tensorflow>=1.13.1->ckiptagger[gdown,tf]) (3.3.2)\n",
      "Requirement already satisfied: urllib3<3,>=1.21.1 in c:\\users\\yehto\\appdata\\local\\programs\\python\\python310\\lib\\site-packages (from requests<3,>=2.21.0->tensorflow-intel==2.16.1->tensorflow>=1.13.1->ckiptagger[gdown,tf]) (2.2.1)\n",
      "Requirement already satisfied: certifi>=2017.4.17 in c:\\users\\yehto\\appdata\\local\\programs\\python\\python310\\lib\\site-packages (from requests<3,>=2.21.0->tensorflow-intel==2.16.1->tensorflow>=1.13.1->ckiptagger[gdown,tf]) (2024.2.2)\n",
      "Requirement already satisfied: idna<4,>=2.5 in c:\\users\\yehto\\appdata\\local\\programs\\python\\python310\\lib\\site-packages (from requests<3,>=2.21.0->tensorflow-intel==2.16.1->tensorflow>=1.13.1->ckiptagger[gdown,tf]) (3.6)\n",
      "Requirement already satisfied: PySocks!=1.5.7,>=1.5.6 in c:\\users\\yehto\\appdata\\local\\programs\\python\\python310\\lib\\site-packages (from requests<3,>=2.21.0->tensorflow-intel==2.16.1->tensorflow>=1.13.1->ckiptagger[gdown,tf]) (1.7.1)\n",
      "Requirement already satisfied: colorama in c:\\users\\yehto\\appdata\\roaming\\python\\python310\\site-packages (from tqdm->gdown->ckiptagger[gdown,tf]) (0.4.6)\n",
      "Requirement already satisfied: wheel<1.0,>=0.23.0 in c:\\users\\yehto\\appdata\\local\\programs\\python\\python310\\lib\\site-packages (from astunparse>=1.6.0->tensorflow-intel==2.16.1->tensorflow>=1.13.1->ckiptagger[gdown,tf]) (0.43.0)\n",
      "Requirement already satisfied: rich in c:\\users\\yehto\\appdata\\local\\programs\\python\\python310\\lib\\site-packages (from keras>=3.0.0->tensorflow-intel==2.16.1->tensorflow>=1.13.1->ckiptagger[gdown,tf]) (13.7.1)\n",
      "Requirement already satisfied: namex in c:\\users\\yehto\\appdata\\local\\programs\\python\\python310\\lib\\site-packages (from keras>=3.0.0->tensorflow-intel==2.16.1->tensorflow>=1.13.1->ckiptagger[gdown,tf]) (0.0.7)\n",
      "Requirement already satisfied: optree in c:\\users\\yehto\\appdata\\local\\programs\\python\\python310\\lib\\site-packages (from keras>=3.0.0->tensorflow-intel==2.16.1->tensorflow>=1.13.1->ckiptagger[gdown,tf]) (0.10.0)\n",
      "Requirement already satisfied: werkzeug>=1.0.1 in c:\\users\\yehto\\appdata\\local\\programs\\python\\python310\\lib\\site-packages (from tensorboard<2.17,>=2.16->tensorflow-intel==2.16.1->tensorflow>=1.13.1->ckiptagger[gdown,tf]) (3.0.1)\n",
      "Requirement already satisfied: markdown>=2.6.8 in c:\\users\\yehto\\appdata\\local\\programs\\python\\python310\\lib\\site-packages (from tensorboard<2.17,>=2.16->tensorflow-intel==2.16.1->tensorflow>=1.13.1->ckiptagger[gdown,tf]) (3.6)\n",
      "Requirement already satisfied: tensorboard-data-server<0.8.0,>=0.7.0 in c:\\users\\yehto\\appdata\\local\\programs\\python\\python310\\lib\\site-packages (from tensorboard<2.17,>=2.16->tensorflow-intel==2.16.1->tensorflow>=1.13.1->ckiptagger[gdown,tf]) (0.7.2)\n",
      "Requirement already satisfied: MarkupSafe>=2.1.1 in c:\\users\\yehto\\appdata\\local\\programs\\python\\python310\\lib\\site-packages (from werkzeug>=1.0.1->tensorboard<2.17,>=2.16->tensorflow-intel==2.16.1->tensorflow>=1.13.1->ckiptagger[gdown,tf]) (2.1.5)\n",
      "Requirement already satisfied: markdown-it-py>=2.2.0 in c:\\users\\yehto\\appdata\\local\\programs\\python\\python310\\lib\\site-packages (from rich->keras>=3.0.0->tensorflow-intel==2.16.1->tensorflow>=1.13.1->ckiptagger[gdown,tf]) (3.0.0)\n",
      "Requirement already satisfied: pygments<3.0.0,>=2.13.0 in c:\\users\\yehto\\appdata\\roaming\\python\\python310\\site-packages (from rich->keras>=3.0.0->tensorflow-intel==2.16.1->tensorflow>=1.13.1->ckiptagger[gdown,tf]) (2.17.2)\n",
      "Requirement already satisfied: mdurl~=0.1 in c:\\users\\yehto\\appdata\\local\\programs\\python\\python310\\lib\\site-packages (from markdown-it-py>=2.2.0->rich->keras>=3.0.0->tensorflow-intel==2.16.1->tensorflow>=1.13.1->ckiptagger[gdown,tf]) (0.1.2)\n"
     ]
    },
    {
     "name": "stderr",
     "output_type": "stream",
     "text": [
      "\n",
      "[notice] A new release of pip is available: 23.0.1 -> 24.0\n",
      "[notice] To update, run: python.exe -m pip install --upgrade pip\n"
     ]
    }
   ],
   "source": [
    "!pip3.10 install ckiptagger[tf,gdown]"
   ]
  },
  {
   "cell_type": "code",
   "execution_count": 1,
   "metadata": {},
   "outputs": [
    {
     "name": "stdout",
     "output_type": "stream",
     "text": [
      "Requirement already satisfied: typing-extensions in c:\\users\\yehto\\appdata\\local\\programs\\python\\python310\\lib\\site-packages (4.10.0)\n"
     ]
    },
    {
     "name": "stderr",
     "output_type": "stream",
     "text": [
      "\n",
      "[notice] A new release of pip is available: 23.0.1 -> 24.0\n",
      "[notice] To update, run: python.exe -m pip install --upgrade pip\n"
     ]
    }
   ],
   "source": [
    "!pip3.10 install typing-extensions"
   ]
  },
  {
   "cell_type": "code",
   "execution_count": 2,
   "metadata": {},
   "outputs": [
    {
     "name": "stdout",
     "output_type": "stream",
     "text": [
      "Requirement already satisfied: requests in c:\\users\\yehto\\appdata\\local\\programs\\python\\python310\\lib\\site-packages (2.31.0)\n",
      "Requirement already satisfied: certifi>=2017.4.17 in c:\\users\\yehto\\appdata\\local\\programs\\python\\python310\\lib\\site-packages (from requests) (2024.2.2)\n",
      "Requirement already satisfied: charset-normalizer<4,>=2 in c:\\users\\yehto\\appdata\\local\\programs\\python\\python310\\lib\\site-packages (from requests) (3.3.2)\n",
      "Requirement already satisfied: urllib3<3,>=1.21.1 in c:\\users\\yehto\\appdata\\local\\programs\\python\\python310\\lib\\site-packages (from requests) (2.2.1)\n",
      "Requirement already satisfied: idna<4,>=2.5 in c:\\users\\yehto\\appdata\\local\\programs\\python\\python310\\lib\\site-packages (from requests) (3.6)\n"
     ]
    },
    {
     "name": "stderr",
     "output_type": "stream",
     "text": [
      "\n",
      "[notice] A new release of pip is available: 23.0.1 -> 24.0\n",
      "[notice] To update, run: python.exe -m pip install --upgrade pip\n"
     ]
    }
   ],
   "source": [
    "!pip3.10 install requests"
   ]
  },
  {
   "cell_type": "code",
   "execution_count": 9,
   "metadata": {},
   "outputs": [
    {
     "name": "stdout",
     "output_type": "stream",
     "text": [
      "2.16.1\n"
     ]
    }
   ],
   "source": [
    "import tensorflow\n",
    "print(tensorflow.__version__)\n"
   ]
  },
  {
   "cell_type": "code",
   "execution_count": 7,
   "metadata": {},
   "outputs": [
    {
     "ename": "AttributeError",
     "evalue": "`LSTMCell` is not available with Keras 3.",
     "output_type": "error",
     "traceback": [
      "\u001b[1;31m---------------------------------------------------------------------------\u001b[0m",
      "\u001b[1;31mAttributeError\u001b[0m                            Traceback (most recent call last)",
      "Cell \u001b[1;32mIn[7], line 41\u001b[0m\n\u001b[0;32m     39\u001b[0m text \u001b[38;5;241m=\u001b[39m \u001b[38;5;124m\"\u001b[39m\u001b[38;5;124m這部電影太好看了，情節扣人心弦，演技也很出色。\u001b[39m\u001b[38;5;124m\"\u001b[39m\n\u001b[0;32m     40\u001b[0m \u001b[38;5;66;03m# 進行情感分析\u001b[39;00m\n\u001b[1;32m---> 41\u001b[0m score \u001b[38;5;241m=\u001b[39m \u001b[43msentiment_analysis\u001b[49m\u001b[43m(\u001b[49m\u001b[43mtext\u001b[49m\u001b[43m,\u001b[49m\u001b[43m \u001b[49m\u001b[43mntusd_dict\u001b[49m\u001b[43m)\u001b[49m\n\u001b[0;32m     43\u001b[0m \u001b[38;5;28;01mif\u001b[39;00m score \u001b[38;5;241m>\u001b[39m \u001b[38;5;241m0\u001b[39m:\n\u001b[0;32m     44\u001b[0m     \u001b[38;5;28mprint\u001b[39m(\u001b[38;5;124m\"\u001b[39m\u001b[38;5;124m正面情緒\u001b[39m\u001b[38;5;124m\"\u001b[39m)\n",
      "Cell \u001b[1;32mIn[7], line 21\u001b[0m, in \u001b[0;36msentiment_analysis\u001b[1;34m(text, ntusd_dict)\u001b[0m\n\u001b[0;32m     20\u001b[0m \u001b[38;5;28;01mdef\u001b[39;00m \u001b[38;5;21msentiment_analysis\u001b[39m(text, ntusd_dict):\n\u001b[1;32m---> 21\u001b[0m     ws \u001b[38;5;241m=\u001b[39m \u001b[43mWS\u001b[49m\u001b[43m(\u001b[49m\u001b[38;5;124;43m\"\u001b[39;49m\u001b[38;5;124;43m./data\u001b[39;49m\u001b[38;5;124;43m\"\u001b[39;49m\u001b[43m)\u001b[49m\n\u001b[0;32m     22\u001b[0m     tokens \u001b[38;5;241m=\u001b[39m ws([text])[\u001b[38;5;241m0\u001b[39m]\n\u001b[0;32m     23\u001b[0m     sentiment_score \u001b[38;5;241m=\u001b[39m \u001b[38;5;241m0\u001b[39m\n",
      "File \u001b[1;32mc:\\Users\\yehto\\AppData\\Local\\Programs\\Python\\Python310\\lib\\site-packages\\ckiptagger\\api.py:52\u001b[0m, in \u001b[0;36mWS.__init__\u001b[1;34m(self, data_dir, disable_cuda)\u001b[0m\n\u001b[0;32m     49\u001b[0m     os\u001b[38;5;241m.\u001b[39menviron[\u001b[38;5;124m\"\u001b[39m\u001b[38;5;124mCUDA_VISIBLE_DEVICES\u001b[39m\u001b[38;5;124m\"\u001b[39m] \u001b[38;5;241m=\u001b[39m \u001b[38;5;124m\"\u001b[39m\u001b[38;5;124m\"\u001b[39m\n\u001b[0;32m     51\u001b[0m \u001b[38;5;28;01mwith\u001b[39;00m tf\u001b[38;5;241m.\u001b[39mGraph()\u001b[38;5;241m.\u001b[39mas_default():\n\u001b[1;32m---> 52\u001b[0m     model \u001b[38;5;241m=\u001b[39m \u001b[43mmodel_ws\u001b[49m\u001b[38;5;241;43m.\u001b[39;49m\u001b[43mModel\u001b[49m\u001b[43m(\u001b[49m\u001b[43mconfig\u001b[49m\u001b[43m)\u001b[49m\n\u001b[0;32m     53\u001b[0m     model\u001b[38;5;241m.\u001b[39msess \u001b[38;5;241m=\u001b[39m tf\u001b[38;5;241m.\u001b[39mcompat\u001b[38;5;241m.\u001b[39mv1\u001b[38;5;241m.\u001b[39mSession()\n\u001b[0;32m     54\u001b[0m     model\u001b[38;5;241m.\u001b[39msess\u001b[38;5;241m.\u001b[39mrun(tf\u001b[38;5;241m.\u001b[39mcompat\u001b[38;5;241m.\u001b[39mv1\u001b[38;5;241m.\u001b[39mglobal_variables_initializer())\n",
      "File \u001b[1;32mc:\\Users\\yehto\\AppData\\Local\\Programs\\Python\\Python310\\lib\\site-packages\\ckiptagger\\model_ws.py:213\u001b[0m, in \u001b[0;36mModel.__init__\u001b[1;34m(self, config)\u001b[0m\n\u001b[0;32m    211\u001b[0m \u001b[38;5;28mself\u001b[39m\u001b[38;5;241m.\u001b[39mcreate_hyper_parameter(config)\n\u001b[0;32m    212\u001b[0m \u001b[38;5;28mself\u001b[39m\u001b[38;5;241m.\u001b[39mcreate_embedding()\n\u001b[1;32m--> 213\u001b[0m \u001b[38;5;28;43mself\u001b[39;49m\u001b[38;5;241;43m.\u001b[39;49m\u001b[43mcreate_encoder\u001b[49m\u001b[43m(\u001b[49m\u001b[43m)\u001b[49m\n\u001b[0;32m    214\u001b[0m \u001b[38;5;28mself\u001b[39m\u001b[38;5;241m.\u001b[39mcreate_classifier()\n\u001b[0;32m    215\u001b[0m \u001b[38;5;28;01mreturn\u001b[39;00m\n",
      "File \u001b[1;32mc:\\Users\\yehto\\AppData\\Local\\Programs\\Python\\Python310\\lib\\site-packages\\ckiptagger\\model_ws.py:252\u001b[0m, in \u001b[0;36mModel.create_encoder\u001b[1;34m(self)\u001b[0m\n\u001b[0;32m    250\u001b[0m \u001b[38;5;28;01mwith\u001b[39;00m tf\u001b[38;5;241m.\u001b[39mcompat\u001b[38;5;241m.\u001b[39mv1\u001b[38;5;241m.\u001b[39mvariable_scope(\u001b[38;5;28mself\u001b[39m\u001b[38;5;241m.\u001b[39mname):\n\u001b[0;32m    251\u001b[0m     \u001b[38;5;28;01mif\u001b[39;00m \u001b[38;5;28mself\u001b[39m\u001b[38;5;241m.\u001b[39mis_cross_bilstm:\n\u001b[1;32m--> 252\u001b[0m         \u001b[38;5;28mself\u001b[39m\u001b[38;5;241m.\u001b[39mbilstm \u001b[38;5;241m=\u001b[39m \u001b[43mCross_BiLSTM\u001b[49m\u001b[43m(\u001b[49m\n\u001b[0;32m    253\u001b[0m \u001b[43m            \u001b[49m\u001b[43minput_d\u001b[49m\u001b[43m \u001b[49m\u001b[38;5;241;43m=\u001b[39;49m\u001b[43m \u001b[49m\u001b[38;5;28;43mself\u001b[39;49m\u001b[38;5;241;43m.\u001b[39;49m\u001b[43mw_embedding_d\u001b[49m\u001b[43m \u001b[49m\u001b[38;5;241;43m+\u001b[39;49m\u001b[43m \u001b[49m\u001b[38;5;28;43mself\u001b[39;49m\u001b[38;5;241;43m.\u001b[39;49m\u001b[43mw_feature_d\u001b[49m\u001b[43m,\u001b[49m\n\u001b[0;32m    254\u001b[0m \u001b[43m            \u001b[49m\u001b[43mhidden_d\u001b[49m\u001b[43m \u001b[49m\u001b[38;5;241;43m=\u001b[39;49m\u001b[43m \u001b[49m\u001b[38;5;28;43mself\u001b[39;49m\u001b[38;5;241;43m.\u001b[39;49m\u001b[43mhidden_d\u001b[49m\u001b[43m,\u001b[49m\n\u001b[0;32m    255\u001b[0m \u001b[43m            \u001b[49m\u001b[43mlayers\u001b[49m\u001b[43m \u001b[49m\u001b[38;5;241;43m=\u001b[39;49m\u001b[43m \u001b[49m\u001b[38;5;28;43mself\u001b[39;49m\u001b[38;5;241;43m.\u001b[39;49m\u001b[43mlayers\u001b[49m\u001b[43m,\u001b[49m\n\u001b[0;32m    256\u001b[0m \u001b[43m        \u001b[49m\u001b[43m)\u001b[49m\n\u001b[0;32m    257\u001b[0m     \u001b[38;5;28;01melse\u001b[39;00m:\n\u001b[0;32m    258\u001b[0m         \u001b[38;5;28mself\u001b[39m\u001b[38;5;241m.\u001b[39mbilstm \u001b[38;5;241m=\u001b[39m BiLSTM(\n\u001b[0;32m    259\u001b[0m             input_d \u001b[38;5;241m=\u001b[39m \u001b[38;5;28mself\u001b[39m\u001b[38;5;241m.\u001b[39mw_embedding_d \u001b[38;5;241m+\u001b[39m \u001b[38;5;28mself\u001b[39m\u001b[38;5;241m.\u001b[39mw_feature_d,\n\u001b[0;32m    260\u001b[0m             hidden_d \u001b[38;5;241m=\u001b[39m \u001b[38;5;28mself\u001b[39m\u001b[38;5;241m.\u001b[39mhidden_d,\n\u001b[0;32m    261\u001b[0m             layers \u001b[38;5;241m=\u001b[39m \u001b[38;5;28mself\u001b[39m\u001b[38;5;241m.\u001b[39mlayers,\n\u001b[0;32m    262\u001b[0m         )\n",
      "File \u001b[1;32mc:\\Users\\yehto\\AppData\\Local\\Programs\\Python\\Python310\\lib\\site-packages\\ckiptagger\\model_ws.py:98\u001b[0m, in \u001b[0;36mCross_BiLSTM.__init__\u001b[1;34m(self, name, input_d, hidden_d, layers)\u001b[0m\n\u001b[0;32m     95\u001b[0m     is_top_cell \u001b[38;5;241m=\u001b[39m (layer\u001b[38;5;241m==\u001b[39mlayers\u001b[38;5;241m-\u001b[39m\u001b[38;5;241m1\u001b[39m)\n\u001b[0;32m     96\u001b[0m     current_input_d \u001b[38;5;241m=\u001b[39m input_d \u001b[38;5;28;01mif\u001b[39;00m layer\u001b[38;5;241m==\u001b[39m\u001b[38;5;241m0\u001b[39m \u001b[38;5;28;01melse\u001b[39;00m hidden_d\u001b[38;5;241m*\u001b[39m\u001b[38;5;241m2\u001b[39m\n\u001b[0;32m     97\u001b[0m     \u001b[38;5;28mself\u001b[39m\u001b[38;5;241m.\u001b[39mf_cell_list\u001b[38;5;241m.\u001b[39mappend(\n\u001b[1;32m---> 98\u001b[0m         \u001b[38;5;28;43mself\u001b[39;49m\u001b[38;5;241;43m.\u001b[39;49m\u001b[43mcreate_cell\u001b[49m\u001b[43m(\u001b[49m\u001b[43mcurrent_input_d\u001b[49m\u001b[43m,\u001b[49m\u001b[43m \u001b[49m\u001b[43mhidden_d\u001b[49m\u001b[43m,\u001b[49m\u001b[43m \u001b[49m\u001b[43mis_top_cell\u001b[49m\u001b[43m,\u001b[49m\u001b[43m \u001b[49m\u001b[38;5;124;43mf\u001b[39;49m\u001b[38;5;124;43m\"\u001b[39;49m\u001b[38;5;124;43mlstm_cell_\u001b[39;49m\u001b[38;5;132;43;01m{\u001b[39;49;00m\u001b[43mlayer\u001b[49m\u001b[38;5;241;43m+\u001b[39;49m\u001b[38;5;241;43m1\u001b[39;49m\u001b[38;5;132;43;01m}\u001b[39;49;00m\u001b[38;5;124;43m\"\u001b[39;49m\u001b[43m)\u001b[49m\n\u001b[0;32m     99\u001b[0m     )\n\u001b[0;32m    100\u001b[0m     \u001b[38;5;28mself\u001b[39m\u001b[38;5;241m.\u001b[39mb_cell_list\u001b[38;5;241m.\u001b[39mappend(\n\u001b[0;32m    101\u001b[0m         \u001b[38;5;28mself\u001b[39m\u001b[38;5;241m.\u001b[39mcreate_cell(current_input_d, hidden_d, is_top_cell, \u001b[38;5;124mf\u001b[39m\u001b[38;5;124m\"\u001b[39m\u001b[38;5;124mlstm_cell_\u001b[39m\u001b[38;5;132;01m{\u001b[39;00mlayer\u001b[38;5;241m+\u001b[39m\u001b[38;5;241m1\u001b[39m\u001b[38;5;132;01m}\u001b[39;00m\u001b[38;5;124m\"\u001b[39m)\n\u001b[0;32m    102\u001b[0m     )\n\u001b[0;32m    103\u001b[0m \u001b[38;5;28;01mreturn\u001b[39;00m\n",
      "File \u001b[1;32mc:\\Users\\yehto\\AppData\\Local\\Programs\\Python\\Python310\\lib\\site-packages\\ckiptagger\\model_ws.py:106\u001b[0m, in \u001b[0;36mCross_BiLSTM.create_cell\u001b[1;34m(self, input_d, hidden_d, is_top_cell, name)\u001b[0m\n\u001b[0;32m    105\u001b[0m \u001b[38;5;28;01mdef\u001b[39;00m \u001b[38;5;21mcreate_cell\u001b[39m(\u001b[38;5;28mself\u001b[39m, input_d, hidden_d, is_top_cell, name):\n\u001b[1;32m--> 106\u001b[0m     cell \u001b[38;5;241m=\u001b[39m \u001b[43mtf\u001b[49m\u001b[38;5;241;43m.\u001b[39;49m\u001b[43mcompat\u001b[49m\u001b[38;5;241;43m.\u001b[39;49m\u001b[43mv1\u001b[49m\u001b[38;5;241;43m.\u001b[39;49m\u001b[43mnn\u001b[49m\u001b[38;5;241;43m.\u001b[39;49m\u001b[43mrnn_cell\u001b[49m\u001b[38;5;241;43m.\u001b[39;49m\u001b[43mLSTMCell\u001b[49m(hidden_d, name\u001b[38;5;241m=\u001b[39mname)\n\u001b[0;32m    107\u001b[0m     cell \u001b[38;5;241m=\u001b[39m tf\u001b[38;5;241m.\u001b[39mcompat\u001b[38;5;241m.\u001b[39mv1\u001b[38;5;241m.\u001b[39mnn\u001b[38;5;241m.\u001b[39mrnn_cell\u001b[38;5;241m.\u001b[39mDropoutWrapper(\n\u001b[0;32m    108\u001b[0m         cell,\n\u001b[0;32m    109\u001b[0m         input_keep_prob \u001b[38;5;241m=\u001b[39m \u001b[38;5;28mself\u001b[39m\u001b[38;5;241m.\u001b[39mkr,\n\u001b[1;32m   (...)\u001b[0m\n\u001b[0;32m    114\u001b[0m         dtype \u001b[38;5;241m=\u001b[39m tf\u001b[38;5;241m.\u001b[39mfloat32,\n\u001b[0;32m    115\u001b[0m     )\n\u001b[0;32m    116\u001b[0m     \u001b[38;5;28;01mreturn\u001b[39;00m cell\n",
      "File \u001b[1;32mc:\\Users\\yehto\\AppData\\Local\\Programs\\Python\\Python310\\lib\\site-packages\\tensorflow\\python\\util\\lazy_loader.py:207\u001b[0m, in \u001b[0;36mKerasLazyLoader.__getattr__\u001b[1;34m(self, item)\u001b[0m\n\u001b[0;32m    200\u001b[0m     \u001b[38;5;28;01mraise\u001b[39;00m \u001b[38;5;167;01mAttributeError\u001b[39;00m(\n\u001b[0;32m    201\u001b[0m         \u001b[38;5;124m\"\u001b[39m\u001b[38;5;124m`tf.compat.v2.keras` is not available with Keras 3. Just use \u001b[39m\u001b[38;5;124m\"\u001b[39m\n\u001b[0;32m    202\u001b[0m         \u001b[38;5;124m\"\u001b[39m\u001b[38;5;124m`import keras` instead.\u001b[39m\u001b[38;5;124m\"\u001b[39m\n\u001b[0;32m    203\u001b[0m     )\n\u001b[0;32m    204\u001b[0m   \u001b[38;5;28;01melif\u001b[39;00m \u001b[38;5;28mself\u001b[39m\u001b[38;5;241m.\u001b[39m_tfll_submodule \u001b[38;5;129;01mand\u001b[39;00m \u001b[38;5;28mself\u001b[39m\u001b[38;5;241m.\u001b[39m_tfll_submodule\u001b[38;5;241m.\u001b[39mstartswith(\n\u001b[0;32m    205\u001b[0m       \u001b[38;5;124m\"\u001b[39m\u001b[38;5;124m__internal__.legacy.\u001b[39m\u001b[38;5;124m\"\u001b[39m\n\u001b[0;32m    206\u001b[0m   ):\n\u001b[1;32m--> 207\u001b[0m     \u001b[38;5;28;01mraise\u001b[39;00m \u001b[38;5;167;01mAttributeError\u001b[39;00m(\n\u001b[0;32m    208\u001b[0m         \u001b[38;5;124mf\u001b[39m\u001b[38;5;124m\"\u001b[39m\u001b[38;5;124m`\u001b[39m\u001b[38;5;132;01m{\u001b[39;00mitem\u001b[38;5;132;01m}\u001b[39;00m\u001b[38;5;124m` is not available with Keras 3.\u001b[39m\u001b[38;5;124m\"\u001b[39m\n\u001b[0;32m    209\u001b[0m     )\n\u001b[0;32m    210\u001b[0m module \u001b[38;5;241m=\u001b[39m \u001b[38;5;28mself\u001b[39m\u001b[38;5;241m.\u001b[39m_load()\n\u001b[0;32m    211\u001b[0m \u001b[38;5;28;01mreturn\u001b[39;00m \u001b[38;5;28mgetattr\u001b[39m(module, item)\n",
      "\u001b[1;31mAttributeError\u001b[0m: `LSTMCell` is not available with Keras 3."
     ]
    }
   ],
   "source": [
    "from ckiptagger import WS, data_utils\n",
    "import csv\n",
    "# !pip install numpy\n",
    "\n",
    "\n",
    "# 下載 CkipTagger 的預訓練模型，下載的路徑為\"./\"，並且生出data資料夾\n",
    "# data_utils.download_data_gdown(\"./\")\n",
    "\n",
    "# 載入NTUSD情感字典\n",
    "def load_ntusd_dict(file_path):\n",
    "    ntusd_dict = {}\n",
    "    with open(file_path, 'r', encoding='utf-8') as file:\n",
    "        reader = csv.reader(file)\n",
    "        for row in reader:\n",
    "            word, sentiment = row\n",
    "            ntusd_dict[word] = sentiment\n",
    "    return ntusd_dict\n",
    "\n",
    "# 情感分析\n",
    "def sentiment_analysis(text, ntusd_dict):\n",
    "    ws = WS(\"./data\")\n",
    "    tokens = ws([text])[0]\n",
    "    sentiment_score = 0\n",
    "    for token in tokens:\n",
    "        if token in ntusd_dict:\n",
    "            sentiment = ntusd_dict[token]\n",
    "            if sentiment == 'positive':\n",
    "                sentiment_score += 1\n",
    "            elif sentiment == 'negative':\n",
    "                sentiment_score -= 1\n",
    "    return sentiment_score\n",
    "\n",
    "# 主程式\n",
    "if __name__ == \"__main__\":\n",
    "    # 載入NTUSD情感字典\n",
    "    ntusd_dict = load_ntusd_dict('./ntusd_full.csv')\n",
    "\n",
    "    # 待分析的文本\n",
    "    text = \"這部電影太好看了，情節扣人心弦，演技也很出色。\"\n",
    "    # 進行情感分析\n",
    "    score = sentiment_analysis(text, ntusd_dict)\n",
    "\n",
    "    if score > 0:\n",
    "        print(\"正面情緒\")\n",
    "    elif score < 0:\n",
    "        print(\"負面情緒\")\n",
    "    else:\n",
    "        print(\"中性情緒\")\n",
    "\n"
   ]
  },
  {
   "cell_type": "code",
   "execution_count": 6,
   "metadata": {},
   "outputs": [
    {
     "data": {
      "text/plain": [
       "'c:\\\\Users\\\\yehto\\\\AppData\\\\Local\\\\Programs\\\\Python\\\\Python310\\\\python.exe'"
      ]
     },
     "execution_count": 6,
     "metadata": {},
     "output_type": "execute_result"
    }
   ],
   "source": [
    "import sys\n",
    "sys.executable"
   ]
  }
 ],
 "metadata": {
  "kernelspec": {
   "display_name": "Python 3",
   "language": "python",
   "name": "python3"
  },
  "language_info": {
   "codemirror_mode": {
    "name": "ipython",
    "version": 3
   },
   "file_extension": ".py",
   "mimetype": "text/x-python",
   "name": "python",
   "nbconvert_exporter": "python",
   "pygments_lexer": "ipython3",
   "version": "3.10.11"
  }
 },
 "nbformat": 4,
 "nbformat_minor": 2
}
